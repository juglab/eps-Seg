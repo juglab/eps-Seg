{
 "cells": [
  {
   "cell_type": "code",
   "execution_count": 1,
   "id": "fd28cecc",
   "metadata": {},
   "outputs": [
    {
     "name": "stdout",
     "output_type": "stream",
     "text": [
      "<class 'eps_seg.config.datasets.BetaSegDatasetConfig'>\n",
      "Loading cached dataset splits from /group/jug/edoardo/datasets/eps_seg/cache/pancreatic_beta_cells/...\n",
      "Loaded cached dataset splits from /group/jug/edoardo/datasets/eps_seg/cache/pancreatic_beta_cells/.\n",
      "  Class 0 (anchors): 2589 samples\n",
      "  Class 1 (anchors): 2450 samples\n",
      "  Class 2 (anchors): 2522 samples\n",
      "  Class 3 (anchors): 2468 samples\n",
      "  Class 0 (neighbors): 23292 samples\n",
      "  Class 1 (neighbors): 16816 samples\n",
      "  Class 2 (neighbors): 15388 samples\n",
      "  Class 3 (neighbors): 14707 samples\n",
      "  Class 0 (anchors): 457 samples\n",
      "  Class 1 (anchors): 456 samples\n",
      "  Class 2 (anchors): 450 samples\n",
      "  Class 3 (anchors): 436 samples\n",
      "  Class 0 (neighbors): 4103 samples\n",
      "  Class 1 (neighbors): 3126 samples\n",
      "  Class 2 (neighbors): 2739 samples\n",
      "  Class 3 (neighbors): 2625 samples\n"
     ]
    }
   ],
   "source": [
    "from eps_seg.dataloaders.datamodules import BetaSegDataModule\n",
    "from eps_seg.config.train import TrainConfig\n",
    "from eps_seg.config.datasets import BetaSegDatasetConfig\n",
    "\n",
    "train_config = TrainConfig()\n",
    "dataset_config = BetaSegDatasetConfig.from_yaml(\"./configs/betaseg.yaml\")\n",
    "dm = BetaSegDataModule(cfg=dataset_config, train_cfg=train_config)\n",
    "dm.setup(\"init\")"
   ]
  }
 ],
 "metadata": {
  "kernelspec": {
   "display_name": "eps-Seg",
   "language": "python",
   "name": "python3"
  },
  "language_info": {
   "codemirror_mode": {
    "name": "ipython",
    "version": 3
   },
   "file_extension": ".py",
   "mimetype": "text/x-python",
   "name": "python",
   "nbconvert_exporter": "python",
   "pygments_lexer": "ipython3",
   "version": "3.11.13"
  }
 },
 "nbformat": 4,
 "nbformat_minor": 5
}
