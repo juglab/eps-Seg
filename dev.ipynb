{
 "cells": [
  {
   "cell_type": "code",
   "execution_count": null,
   "id": "1a626697",
   "metadata": {},
   "outputs": [],
   "source": [
    "from eps_seg.modules.lvae import LadderVAE\n",
    "import numpy as np\n",
    "import torch\n",
    "device = torch.device(\"cuda\" if torch.cuda.is_available() else \"cpu\")\n",
    "\n",
    "x = np.random.randn(2, 1, 64, 64).astype(np.float32)\n",
    "x = torch.tensor(x).to(device)\n",
    "\n",
    "model = LadderVAE(\n",
    "        z_dims=[32] * int(5),\n",
    "        blocks_per_layer=5,\n",
    "        data_mean=x.mean(),\n",
    "        data_std=x.std(),\n",
    "        noiseModel=None,\n",
    "        conv_mult=2,\n",
    "        device=device,\n",
    "        batchnorm=True,\n",
    "        stochastic_skip=True,\n",
    "        free_bits=0.0,\n",
    "        img_shape=(64, 64),\n",
    "        grad_checkpoint=True,\n",
    "        mask_size=1,\n",
    "        contrastive_learning=True,\n",
    "        margin=50,\n",
    "        lambda_contrastive=0.5,\n",
    "        stochastic_block_type=\"mixture\",\n",
    "        conditional=True,\n",
    "        condition_type=\"mlp\",\n",
    "        n_components=4,\n",
    "        training_mode=\"semisupervised\",\n",
    "        labeled_ratio=1.0,\n",
    "    )"
   ]
  },
  {
   "cell_type": "code",
   "execution_count": null,
   "id": "8ea126cb",
   "metadata": {},
   "outputs": [],
   "source": [
    "model(x)"
   ]
  },
  {
   "cell_type": "markdown",
   "id": "2fcb6a35",
   "metadata": {},
   "source": [
    "# TODO: Review commented out parameters in lvae TopDownLayer and reimplement\n",
    "1) Review if I implemented head_z_dims correctly\n",
    "2) Unknown params:\n",
    "- use_mode\n",
    "- force_constant_output\n",
    "3) There are A LOT of places when the networks are on the wrong device. "
   ]
  },
  {
   "cell_type": "code",
   "execution_count": null,
   "id": "8b540f19",
   "metadata": {},
   "outputs": [],
   "source": [
    "import torch\n",
    "import torch.nn as nn\n",
    "\n",
    "# Import torchvista\n",
    "from torchvista import trace_model\n",
    "\n",
    "# Trace!\n",
    "trace_model(model, x)"
   ]
  }
 ],
 "metadata": {
  "kernelspec": {
   "display_name": "eps-Seg",
   "language": "python",
   "name": "python3"
  },
  "language_info": {
   "codemirror_mode": {
    "name": "ipython",
    "version": 3
   },
   "file_extension": ".py",
   "mimetype": "text/x-python",
   "name": "python",
   "nbconvert_exporter": "python",
   "pygments_lexer": "ipython3",
   "version": "3.11.13"
  }
 },
 "nbformat": 4,
 "nbformat_minor": 5
}
