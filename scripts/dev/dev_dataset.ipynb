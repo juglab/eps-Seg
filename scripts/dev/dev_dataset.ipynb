{
 "cells": [
  {
   "cell_type": "code",
   "execution_count": 1,
   "id": "0e2d390e",
   "metadata": {},
   "outputs": [
    {
     "name": "stdout",
     "output_type": "stream",
     "text": [
      "Loaded training config from /group/jug/edoardo/projects/eps-Seg/experiments/common_configs/train_testrun.yaml\n",
      "Using default LVAE config\n"
     ]
    }
   ],
   "source": [
    "from eps_seg.config.train import ExperimentConfig\n",
    "from eps_seg.dataloaders.datamodules import BetaSegDataModule\n",
    "\n",
    "exp_config = ExperimentConfig.from_yaml(\"/group/jug/edoardo/projects/eps-Seg/experiments/dev_dataset/dev_dataset.yaml\")\n",
    "train_config, dataset_config, model_config = exp_config.get_configs()"
   ]
  },
  {
   "cell_type": "code",
   "execution_count": 2,
   "id": "15b78491",
   "metadata": {},
   "outputs": [],
   "source": [
    "dm = BetaSegDataModule(cfg=dataset_config, train_cfg=train_config)"
   ]
  }
 ],
 "metadata": {
  "kernelspec": {
   "display_name": "eps-Seg",
   "language": "python",
   "name": "python3"
  },
  "language_info": {
   "codemirror_mode": {
    "name": "ipython",
    "version": 3
   },
   "file_extension": ".py",
   "mimetype": "text/x-python",
   "name": "python",
   "nbconvert_exporter": "python",
   "pygments_lexer": "ipython3",
   "version": "3.11.13"
  }
 },
 "nbformat": 4,
 "nbformat_minor": 5
}
